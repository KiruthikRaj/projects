{
 "cells": [
  {
   "cell_type": "code",
   "execution_count": 1,
   "id": "c542e22d",
   "metadata": {},
   "outputs": [
    {
     "name": "stdout",
     "output_type": "stream",
     "text": [
      "Enter your namekiruthik raj\n",
      "Enter number of semsters2\n",
      "Enter 1 to calculte gpa&cgpa else press other than 1 to calculate cgpa1\n",
      "Enter number of subjects3\n",
      "Enter grade value for subjectA\n",
      "Enter credits for subject3\n",
      "Enter grade value for subjectA\n",
      "Enter credits for subject4\n",
      "Enter grade value for subjectA+\n",
      "Enter credits for subject3\n",
      "8.3  is semester- 1 gpa\n",
      "Enter number of subjects4\n",
      "Enter grade value for subjectA+\n",
      "Enter credits for subject4\n",
      "Enter grade value for subjectA\n",
      "Enter credits for subject4\n",
      "Enter grade value for subjectA+\n",
      "Enter credits for subject3\n",
      "Enter grade value for subjectB+\n",
      "Enter credits for subject2\n",
      "8.384615384615385  is semester- 2 gpa\n",
      "8.342307692307692  is  kiruthik raj cgpa\n"
     ]
    }
   ],
   "source": [
    "name=input(\"Enter your name\")\n",
    "no_of_sem=int(input(\"Enter number of semsters\"))\n",
    "n=int(input(\"Enter 1 to calculte gpa&cgpa else press other than 1 to calculate cgpa\"))\n",
    "if n==1:\n",
    "    gpa=[]\n",
    "    for i in range(0,no_of_sem):\n",
    "        no_of_sub=int(input(\"Enter number of subjects\"))\n",
    "        total_grade=[]\n",
    "        total_credit=0\n",
    "        for x in range(0,no_of_sub):\n",
    "            grade_points = {\"O\":10,\"A+\":9,\"A\":8,\"B+\":7,\"B\":6,\"RA\":0}\n",
    "            grade_value=input(\"Enter grade value for subject\")\n",
    "            credit=int(input(\"Enter credits for subject\"))\n",
    "            total_credit+=credit\n",
    "            gd=credit*grade_points[grade_value]\n",
    "            total_grade.append(gd)\n",
    "            sum_of_grades=sum(total_grade)\n",
    "        single_gpa=sum_of_grades/total_credit\n",
    "        i+=1\n",
    "        print(single_gpa,\" is semester-\",i,\"gpa\")\n",
    "        gpa.append(single_gpa)\n",
    "    sum_of_gpa=sum(gpa)\n",
    "    cgpa=sum_of_gpa/no_of_sem \n",
    "    print(cgpa,\" is \",name,\"cgpa\")\n",
    "\n",
    "\n",
    "else:\n",
    "    sem_gpa=[]\n",
    "    for j in range(0,no_of_sem):\n",
    "        j+=1\n",
    "        ele=float(input(\"Enter semester-\"+str(j)+\" gpa =\"))\n",
    "        sem_gpa.append(ele)\n",
    "    sum_of_gpa=sum(sem_gpa)\n",
    "    cgpa=sum_of_gpa/no_of_sem\n",
    "    print(cgpa,\" is \",name,\"cgpa\")\n",
    "    "
   ]
  },
  {
   "cell_type": "code",
   "execution_count": null,
   "id": "bfbdb623",
   "metadata": {},
   "outputs": [],
   "source": []
  }
 ],
 "metadata": {
  "kernelspec": {
   "display_name": "Python 3 (ipykernel)",
   "language": "python",
   "name": "python3"
  },
  "language_info": {
   "codemirror_mode": {
    "name": "ipython",
    "version": 3
   },
   "file_extension": ".py",
   "mimetype": "text/x-python",
   "name": "python",
   "nbconvert_exporter": "python",
   "pygments_lexer": "ipython3",
   "version": "3.9.7"
  }
 },
 "nbformat": 4,
 "nbformat_minor": 5
}
