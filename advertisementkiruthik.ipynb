{
 "cells": [
  {
   "cell_type": "code",
   "execution_count": null,
   "id": "c8e4d179",
   "metadata": {},
   "outputs": [],
   "source": [
    "import pandas as pd\n",
    "from statsmodels\n",
    "Byjus_excel=pd.read_excel(\"C:/Users/kirut/Downloads/Byjus_excel.xlsx\")\n",
    "pd.crosstab(Byjus_excel.parents_with_children,Byjus_excel.subscription)\n",
    "from statsmodels.stats.proportion import proportions_ztest\n",
    "import numpy as np\n",
    "count=np.array([445,291])\n",
    "nobs=np.array([695,648])\n",
    "proportions_ztest(count,nobs)\n",
    "stat, p_value=proportions_ztest(count=736,nobs=1343,value=0.54)\n",
    "print(p_value)"
   ]
  }
 ],
 "metadata": {
  "kernelspec": {
   "display_name": "Python 3 (ipykernel)",
   "language": "python",
   "name": "python3"
  },
  "language_info": {
   "codemirror_mode": {
    "name": "ipython",
    "version": 3
   },
   "file_extension": ".py",
   "mimetype": "text/x-python",
   "name": "python",
   "nbconvert_exporter": "python",
   "pygments_lexer": "ipython3",
   "version": "3.9.7"
  }
 },
 "nbformat": 4,
 "nbformat_minor": 5
}
