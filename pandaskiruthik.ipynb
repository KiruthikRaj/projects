{
 "cells": [
  {
   "cell_type": "code",
   "execution_count": 4,
   "id": "390f84c3",
   "metadata": {},
   "outputs": [
    {
     "name": "stdout",
     "output_type": "stream",
     "text": [
      "<class 'pandas.core.frame.DataFrame'>\n",
      "RangeIndex: 816 entries, 0 to 815\n",
      "Data columns (total 17 columns):\n",
      " #   Column           Non-Null Count  Dtype  \n",
      "---  ------           --------------  -----  \n",
      " 0   z                816 non-null    int64  \n",
      " 1   city             803 non-null    object \n",
      " 2   date             816 non-null    object \n",
      " 3   player_of_match  812 non-null    object \n",
      " 4   venue            816 non-null    object \n",
      " 5   neutral_venue    816 non-null    int64  \n",
      " 6   team1            816 non-null    object \n",
      " 7   team2            816 non-null    object \n",
      " 8   toss_winner      816 non-null    object \n",
      " 9   toss_decision    816 non-null    object \n",
      " 10  winner           812 non-null    object \n",
      " 11  result           812 non-null    object \n",
      " 12  result_margin    799 non-null    float64\n",
      " 13  eliminator       812 non-null    object \n",
      " 14  method           19 non-null     object \n",
      " 15  umpire1          816 non-null    object \n",
      " 16  umpire2          816 non-null    object \n",
      "dtypes: float64(1), int64(2), object(14)\n",
      "memory usage: 108.5+ KB\n"
     ]
    },
    {
     "data": {
      "text/plain": [
       "Mumbai Indians                 106\n",
       "Kings XI Punjab                 98\n",
       "Kolkata Knight Riders           97\n",
       "Rajasthan Royals                91\n",
       "Royal Challengers Bangalore     87\n",
       "Chennai Super Kings             84\n",
       "Delhi Daredevils                78\n",
       "Sunrisers Hyderabad             65\n",
       "Deccan Chargers                 36\n",
       "Pune Warriors                   23\n",
       "Gujarat Lions                   14\n",
       "Delhi Capitals                  14\n",
       "Rising Pune Supergiant           9\n",
       "Kochi Tuskers Kerala             7\n",
       "Rising Pune Supergiants          7\n",
       "Name: team2, dtype: int64"
      ]
     },
     "execution_count": 4,
     "metadata": {},
     "output_type": "execute_result"
    },
    {
     "data": {
      "image/png": "[encoded data removed]",
      "text/plain": [
       "<Figure size 432x288 with 1 Axes>"
      ]
     },
     "metadata": {
      "needs_background": "light"
     },
     "output_type": "display_data"
    }
   ],
   "source": [
    "import pandas as pd\n",
    "data=pd.read_csv(\"C:/Users/kirut/Documents/ipl.csv\")\n",
    "data.head()    \n",
    "data.head(10) \n",
    "data.tail()\n",
    "data.tail(10)\n",
    "data.info()\n",
    "data.result_margin.mean()\n",
    "data.result_margin.median()\n",
    "data.result_margin.mode()\n",
    "data.result_margin.std()\n",
    "data.result_margin.var()\n",
    "data.result_margin.skew()\n",
    "data.result_margin.kurt()\n",
    "data.result_margin.hist()\n",
    "data.winner.mode()\n",
    "data.winner.value_counts()\n",
    "data.toss_winner.value_counts()\n",
    "data.venue.value_counts()\n",
    "data.shape\n",
    "data.size\n",
    "data.columns\n",
    "data.team1.value_counts()\n",
    "data.team2.value_counts()\n",
    "\n",
    "\n",
    "\n"
   ]
  },
  {
   "cell_type": "code",
   "execution_count": null,
   "id": "e73f6699",
   "metadata": {},
   "outputs": [],
   "source": []
  }
 ],
 "metadata": {
  "kernelspec": {
   "display_name": "Python 3 (ipykernel)",
   "language": "python",
   "name": "python3"
  },
  "language_info": {
   "codemirror_mode": {
    "name": "ipython",
    "version": 3
   },
   "file_extension": ".py",
   "mimetype": "text/x-python",
   "name": "python",
   "nbconvert_exporter": "python",
   "pygments_lexer": "ipython3",
   "version": "3.9.7"
  }
 },
 "nbformat": 4,
 "nbformat_minor": 5
}
